{
 "cells": [
  {
   "cell_type": "code",
   "execution_count": 2,
   "id": "808b47d9-8ca6-42b4-93e2-3b512deadebd",
   "metadata": {},
   "outputs": [
    {
     "name": "stdout",
     "output_type": "stream",
     "text": [
      "3.12.7\n"
     ]
    }
   ],
   "source": [
    "import platform\n",
    "print(platform.python_version())\n"
   ]
  },
  {
   "cell_type": "code",
   "execution_count": 3,
   "id": "cf25ca5a-0057-4747-ae6d-014a3d8efbcd",
   "metadata": {},
   "outputs": [
    {
     "name": "stdout",
     "output_type": "stream",
     "text": [
      "Requirement already satisfied: openpyxl in d:\\anaconda\\lib\\site-packages (3.1.5)\n",
      "Requirement already satisfied: et-xmlfile in d:\\anaconda\\lib\\site-packages (from openpyxl) (1.1.0)\n",
      "Note: you may need to restart the kernel to use updated packages.\n"
     ]
    }
   ],
   "source": [
    "pip install openpyxl"
   ]
  },
  {
   "cell_type": "code",
   "execution_count": 5,
   "id": "ebd4b53b-960c-4fa5-ab55-bc1f47196a64",
   "metadata": {},
   "outputs": [
    {
     "name": "stdout",
     "output_type": "stream",
     "text": [
      "   StudentID  G1  G2  G3      Mjob     Fjob  age address  studytime  failures  \\\n",
      "0          1   6   2   2   teacher  at_home   21   rural          3         1   \n",
      "1          2  19  11  18    health  teacher   18   rural          1         1   \n",
      "2          3  14   7  19    health    other   20   urban          1         1   \n",
      "3          4  10   2   6  services   health   21   urban          3         1   \n",
      "4          5   7   0  19    health   health   18   rural          4         1   \n",
      "\n",
      "  schoolsup famsup paid activities nursery higher internet romantic  \n",
      "0        no    yes  yes        yes     yes    yes       no      yes  \n",
      "1        no     no   no         no     yes     no       no       no  \n",
      "2       yes    yes  yes         no      no     no      yes      yes  \n",
      "3       yes     no  yes         no     yes     no       no       no  \n",
      "4        no     no  yes         no     yes    yes      yes       no  \n"
     ]
    }
   ],
   "source": [
    "import pandas as pd\n",
    "\n",
    "# Load the dataset into a DataFrame\n",
    "file_path = 'student_performance.csv'  # Update this path if the file is in a different location\n",
    "student_data = pd.read_csv(file_path)\n",
    "\n",
    "# Show the first few rows of the dataset\n",
    "print(student_data.head())"
   ]
  },
  {
   "cell_type": "code",
   "execution_count": 6,
   "id": "95d498cc-58c2-493e-854b-a9f8ca67c93d",
   "metadata": {},
   "outputs": [
    {
     "name": "stdout",
     "output_type": "stream",
     "text": [
      "Statistical Information:\n",
      "         StudentID          G1          G2          G3    Mjob     Fjob  \\\n",
      "count   100.000000  100.000000  100.000000  100.000000     100      100   \n",
      "unique         NaN         NaN         NaN         NaN       5        5   \n",
      "top            NaN         NaN         NaN         NaN  health  teacher   \n",
      "freq           NaN         NaN         NaN         NaN      28       23   \n",
      "mean     50.500000    9.010000    8.710000    9.070000     NaN      NaN   \n",
      "std      29.011492    5.535003    6.107282    6.629068     NaN      NaN   \n",
      "min       1.000000    0.000000    0.000000    0.000000     NaN      NaN   \n",
      "25%      25.750000    4.750000    3.750000    2.000000     NaN      NaN   \n",
      "50%      50.500000    8.500000    8.000000    8.000000     NaN      NaN   \n",
      "75%      75.250000   14.000000   14.000000   15.000000     NaN      NaN   \n",
      "max     100.000000   19.000000   19.000000   19.000000     NaN      NaN   \n",
      "\n",
      "               age address  studytime    failures schoolsup famsup paid  \\\n",
      "count   100.000000     100  100.00000  100.000000       100    100  100   \n",
      "unique         NaN       2        NaN         NaN         2      2    2   \n",
      "top            NaN   rural        NaN         NaN       yes     no  yes   \n",
      "freq           NaN      54        NaN         NaN        52     53   56   \n",
      "mean     18.180000     NaN    2.21000    1.380000       NaN    NaN  NaN   \n",
      "std       1.940426     NaN    1.06643    1.080404       NaN    NaN  NaN   \n",
      "min      15.000000     NaN    1.00000    0.000000       NaN    NaN  NaN   \n",
      "25%      16.750000     NaN    1.00000    0.000000       NaN    NaN  NaN   \n",
      "50%      18.000000     NaN    2.00000    1.000000       NaN    NaN  NaN   \n",
      "75%      20.000000     NaN    3.00000    2.000000       NaN    NaN  NaN   \n",
      "max      21.000000     NaN    4.00000    3.000000       NaN    NaN  NaN   \n",
      "\n",
      "       activities nursery higher internet romantic  \n",
      "count         100     100    100      100      100  \n",
      "unique          2       2      2        2        2  \n",
      "top            no     yes    yes       no      yes  \n",
      "freq           54      57     54       54       57  \n",
      "mean          NaN     NaN    NaN      NaN      NaN  \n",
      "std           NaN     NaN    NaN      NaN      NaN  \n",
      "min           NaN     NaN    NaN      NaN      NaN  \n",
      "25%           NaN     NaN    NaN      NaN      NaN  \n",
      "50%           NaN     NaN    NaN      NaN      NaN  \n",
      "75%           NaN     NaN    NaN      NaN      NaN  \n",
      "max           NaN     NaN    NaN      NaN      NaN  \n",
      "\n",
      "Data Types:\n",
      "StudentID      int64\n",
      "G1             int64\n",
      "G2             int64\n",
      "G3             int64\n",
      "Mjob          object\n",
      "Fjob          object\n",
      "age            int64\n",
      "address       object\n",
      "studytime      int64\n",
      "failures       int64\n",
      "schoolsup     object\n",
      "famsup        object\n",
      "paid          object\n",
      "activities    object\n",
      "nursery       object\n",
      "higher        object\n",
      "internet      object\n",
      "romantic      object\n",
      "dtype: object\n"
     ]
    }
   ],
   "source": [
    "# Display statistical information\n",
    "print(\"Statistical Information:\")\n",
    "print(student_data.describe(include='all'))\n",
    "\n",
    "# Display data types of each column\n",
    "print(\"\\nData Types:\")\n",
    "print(student_data.dtypes)\n"
   ]
  },
  {
   "cell_type": "code",
   "execution_count": 9,
   "id": "6d822df9-2404-4d48-a245-082602ec6448",
   "metadata": {},
   "outputs": [
    {
     "name": "stdout",
     "output_type": "stream",
     "text": [
      "Number of rows with missing data: 0\n"
     ]
    }
   ],
   "source": [
    "# Count the number of rows with missing data\n",
    "rows_with_missing_data = student_data.isnull().any(axis=1).sum()\n",
    "\n",
    "print(f\"Number of rows with missing data: {rows_with_missing_data}\")"
   ]
  },
  {
   "cell_type": "code",
   "execution_count": 8,
   "id": "e63eed71-004a-4ffe-b8bb-094a773cb80f",
   "metadata": {},
   "outputs": [
    {
     "name": "stdout",
     "output_type": "stream",
     "text": [
      "Mean of runs scored by top 10 players: 6.1\n",
      "Mode of runs scored by top 10 players: [6]\n"
     ]
    }
   ],
   "source": [
    "import pandas as pd\n",
    "\n",
    "# Load the IPL dataset\n",
    "file_path = 'ipl_matches_smalldata.csv'  # Update this path as needed\n",
    "ipl_data = pd.read_csv(file_path)\n",
    "\n",
    "# Assuming there is a column \"Player\" and a column \"Runs\" in the dataset\n",
    "# Filter the top 10 players by runs\n",
    "top_10_players = ipl_data.nlargest(10, 'total_runs')\n",
    "\n",
    "# Calculate the mean and mode of the \"Runs\" column for the top 10 players\n",
    "mean_runs = top_10_players['total_runs'].mean()\n",
    "mode_runs = top_10_players['total_runs'].mode()\n",
    "\n",
    "print(f\"Mean of runs scored by top 10 players: {mean_runs}\")\n",
    "print(f\"Mode of runs scored by top 10 players: {list(mode_runs)}\")\n"
   ]
  },
  {
   "cell_type": "code",
   "execution_count": 10,
   "id": "e0649eef-85b4-440e-b6d4-99b2c6033d2f",
   "metadata": {},
   "outputs": [
    {
     "name": "stdout",
     "output_type": "stream",
     "text": [
      "Empty DataFrame\n",
      "Columns: [match_id, inning, batting_team, bowling_team, over, ball, batter, bowler, non_striker, batsman_runs, extra_runs, total_runs, extras_type, is_wicket, player_dismissed, dismissal_kind, fielder]\n",
      "Index: []\n"
     ]
    }
   ],
   "source": [
    "# Load the IPL dataset\n",
    "file_path = 'ipl_matches_smalldata.csv'  # Update this path as needed\n",
    "ipl_data = pd.read_csv(file_path)\n",
    "\n",
    "# Filter players who have scored more than 500 runs\n",
    "players_above_500 = ipl_data[ipl_data['total_runs'] > 500]\n",
    "\n",
    "# Display the filtered players\n",
    "print(players_above_500)\n"
   ]
  },
  {
   "cell_type": "code",
   "execution_count": 13,
   "id": "fb2bde7b-217b-4e6e-a484-39324b2cb31f",
   "metadata": {},
   "outputs": [
    {
     "data": {
      "image/png": "[encoded data removed]",
      "text/plain": [
       "<Figure size 1000x600 with 1 Axes>"
      ]
     },
     "metadata": {},
     "output_type": "display_data"
    }
   ],
   "source": [
    "import matplotlib.pyplot as plt\n",
    "\n",
    "# Load the IPL dataset\n",
    "file_path = 'ipl_matches_smalldata.csv'  # Update this path as needed\n",
    "ipl_data = pd.read_csv(file_path)\n",
    "\n",
    "# Filter the top 10 players by runs\n",
    "top_10_players = ipl_data.nlargest(10, 'total_runs')\n",
    "\n",
    "# Create a bar chart\n",
    "plt.figure(figsize=(10, 6))\n",
    "plt.bar(top_10_players['batter'], top_10_players['total_runs'], color='skyblue')\n",
    "\n",
    "# Add labels and title\n",
    "plt.xlabel('batter', fontsize=12)\n",
    "plt.ylabel('total_runs', fontsize=12)\n",
    "plt.title('Top 10 Players by Runs in IPL', fontsize=14)\n",
    "\n",
    "# Show the plot\n",
    "plt.show()\n"
   ]
  },
  {
   "cell_type": "code",
   "execution_count": 14,
   "id": "fa4effc0-712c-4ec0-aceb-6712d4ac421c",
   "metadata": {},
   "outputs": [
    {
     "name": "stdout",
     "output_type": "stream",
     "text": [
      "Requirement already satisfied: numpy in d:\\anaconda\\lib\\site-packages (1.26.4)\n",
      "Requirement already satisfied: matplotlib in d:\\anaconda\\lib\\site-packages (3.9.2)\n",
      "Requirement already satisfied: contourpy>=1.0.1 in d:\\anaconda\\lib\\site-packages (from matplotlib) (1.2.0)\n",
      "Requirement already satisfied: cycler>=0.10 in d:\\anaconda\\lib\\site-packages (from matplotlib) (0.11.0)\n",
      "Requirement already satisfied: fonttools>=4.22.0 in d:\\anaconda\\lib\\site-packages (from matplotlib) (4.51.0)\n",
      "Requirement already satisfied: kiwisolver>=1.3.1 in d:\\anaconda\\lib\\site-packages (from matplotlib) (1.4.4)\n",
      "Requirement already satisfied: numpy>=1.23 in d:\\anaconda\\lib\\site-packages (from matplotlib) (1.26.4)\n",
      "Requirement already satisfied: packaging>=20.0 in d:\\anaconda\\lib\\site-packages (from matplotlib) (24.1)\n",
      "Requirement already satisfied: pillow>=8 in d:\\anaconda\\lib\\site-packages (from matplotlib) (10.4.0)\n",
      "Requirement already satisfied: pyparsing>=2.3.1 in d:\\anaconda\\lib\\site-packages (from matplotlib) (3.1.2)\n",
      "Requirement already satisfied: python-dateutil>=2.7 in d:\\anaconda\\lib\\site-packages (from matplotlib) (2.9.0.post0)\n",
      "Requirement already satisfied: six>=1.5 in d:\\anaconda\\lib\\site-packages (from python-dateutil>=2.7->matplotlib) (1.16.0)\n",
      "Collecting opencv-python\n",
      "  Downloading opencv_python-4.11.0.86-cp37-abi3-win_amd64.whl.metadata (20 kB)\n",
      "Requirement already satisfied: numpy>=1.21.2 in d:\\anaconda\\lib\\site-packages (from opencv-python) (1.26.4)\n",
      "Downloading opencv_python-4.11.0.86-cp37-abi3-win_amd64.whl (39.5 MB)\n",
      "   ---------------------------------------- 0.0/39.5 MB ? eta -:--:--\n",
      "   ------- -------------------------------- 7.6/39.5 MB 39.0 MB/s eta 0:00:01\n",
      "   ---------------- ----------------------- 16.5/39.5 MB 40.0 MB/s eta 0:00:01\n",
      "   -------------------------- ------------- 26.0/39.5 MB 42.1 MB/s eta 0:00:01\n",
      "   ----------------------------------- ---- 35.1/39.5 MB 42.1 MB/s eta 0:00:01\n",
      "   ---------------------------------------- 39.5/39.5 MB 37.5 MB/s eta 0:00:00\n",
      "Installing collected packages: opencv-python\n",
      "Successfully installed opencv-python-4.11.0.86\n"
     ]
    }
   ],
   "source": [
    "!pip install numpy\n",
    "!pip install matplotlib\n",
    "!pip install opencv-python"
   ]
  },
  {
   "cell_type": "code",
   "execution_count": 16,
   "id": "cc88c4ff-bd24-49dd-8f3c-3ce4174846ac",
   "metadata": {},
   "outputs": [],
   "source": [
    "import cv2\n",
    "import numpy as np\n",
    "import matplotlib.pyplot as plt"
   ]
  },
  {
   "cell_type": "code",
   "execution_count": 28,
   "id": "5d8721fa-233c-4d8f-8252-2c087de19d2e",
   "metadata": {},
   "outputs": [],
   "source": [
    "# 1. Read an image from a file and display it\n",
    "image_path = 'practical python.png'  # Replace with your image file path\n",
    "image = cv2.imread(image_path)\n",
    "cv2.imshow('Original Image', image)\n",
    "\n",
    "cv2.waitKey(0)\n",
    "cv2.destroyAllWindows()"
   ]
  },
  {
   "cell_type": "code",
   "execution_count": 18,
   "id": "ce2e88ea-be19-4e95-a82f-bceab2daf195",
   "metadata": {},
   "outputs": [
    {
     "name": "stdout",
     "output_type": "stream",
     "text": [
      "Original Image Dimensions: (728, 1369, 3)\n"
     ]
    }
   ],
   "source": [
    "# 2. Find the shape (dimensions) of the image\n",
    "print(f\"Original Image Dimensions: {image.shape}\")"
   ]
  },
  {
   "cell_type": "code",
   "execution_count": 19,
   "id": "7bab2274-1ab0-4c0d-b7fb-35af9859f909",
   "metadata": {},
   "outputs": [
    {
     "name": "stdout",
     "output_type": "stream",
     "text": [
      "Resized Image Dimensions: (256, 400, 3)\n"
     ]
    }
   ],
   "source": [
    "# 3. Resize the image to dimensions of 400x256 pixels\n",
    "resized_image = cv2.resize(image, (400, 256))\n",
    "print(f\"Resized Image Dimensions: {resized_image.shape}\")"
   ]
  },
  {
   "cell_type": "code",
   "execution_count": 29,
   "id": "047c3c2f-82f4-4634-8863-3374bd31a87f",
   "metadata": {},
   "outputs": [],
   "source": [
    "# 4. Display the resized image\n",
    "cv2.imshow('Resized Image', resized_image)\n",
    "\n",
    "cv2.waitKey(0)\n",
    "cv2.destroyAllWindows()"
   ]
  },
  {
   "cell_type": "code",
   "execution_count": 30,
   "id": "3bf44c95-0dfb-4a24-84e0-966394a0a077",
   "metadata": {},
   "outputs": [],
   "source": [
    "# 5. Flip the image horizontally and vertically\n",
    "flipped_image = cv2.flip(resized_image, -1)  # Flip both horizontally and vertically\n",
    "cv2.imshow('Flipped Image', flipped_image)\n",
    "\n",
    "cv2.waitKey(0)\n",
    "cv2.destroyAllWindows()"
   ]
  },
  {
   "cell_type": "code",
   "execution_count": null,
   "id": "ad500e0f-65ca-4083-bf05-07ab0a81b35d",
   "metadata": {},
   "outputs": [],
   "source": [
    "# Load the dataset\n",
    "file_path = 'tips.csv'  # Replace with the actual file path\n",
    "tips_data = pd.read_csv(file_path)\n",
    "\n",
    "# Check if the dataset contains a column for smoking area (assume it's named 'smoker')\n",
    "if 'Customer ID' in tips_data.columns:\n",
    "    # Count the occurrences of 'Yes' (smoking) and 'No' (non-smoking)\n",
    "    smoking_counts = tips_data['Customer ID'].value_counts()\n",
    "    \n",
    "    # Data for the pie chart\n",
    "    labels = smoking_counts.index  # ['Yes', 'No']\n",
    "    sizes = smoking_counts.values  # Number of people in each category\n",
    "    colors = ['blue', 'green']  # Colors for the pie chart\n",
    "    explode = (0.1, 0)  # Highlight the smoking area slightly\n",
    "\n",
    "    # Create a pie chart\n",
    "    plt.pie(sizes,labels=labels,autopct='%1.1f%%',startangle=140,colors=colors,explode=explode  )\n",
    "    plt.title('Percentage of People in Smoking vs Non-Smoking Areas')\n",
    "    plt.axis('equal')  # Equal aspect ratio ensures the pie is circular.\n",
    "\n",
    "    # Display the chart\n",
    "    plt.show()"
   ]
  },
  {
   "cell_type": "code",
   "execution_count": null,
   "id": "2c1d1847-d5f0-4e10-85f5-d333fa8baf6b",
   "metadata": {},
   "outputs": [],
   "source": []
  },
  {
   "cell_type": "code",
   "execution_count": 42,
   "id": "77055f6c-7b83-4f9b-977a-500a5be19a2f",
   "metadata": {},
   "outputs": [
    {
     "name": "stdout",
     "output_type": "stream",
     "text": [
      "Requirement already satisfied: nltk in d:\\anaconda\\lib\\site-packages (3.9.1)\n",
      "Requirement already satisfied: click in d:\\anaconda\\lib\\site-packages (from nltk) (8.1.7)\n",
      "Requirement already satisfied: joblib in d:\\anaconda\\lib\\site-packages (from nltk) (1.4.2)\n",
      "Requirement already satisfied: regex>=2021.8.3 in d:\\anaconda\\lib\\site-packages (from nltk) (2024.9.11)\n",
      "Requirement already satisfied: tqdm in d:\\anaconda\\lib\\site-packages (from nltk) (4.66.5)\n",
      "Requirement already satisfied: colorama in d:\\anaconda\\lib\\site-packages (from click->nltk) (0.4.6)\n",
      "Note: you may need to restart the kernel to use updated packages.\n"
     ]
    }
   ],
   "source": [
    "pip install nltk"
   ]
  },
  {
   "cell_type": "code",
   "execution_count": 8,
   "id": "a17ae4af-357b-4fab-a38e-9c645be834ce",
   "metadata": {},
   "outputs": [
    {
     "name": "stderr",
     "output_type": "stream",
     "text": [
      "[nltk_data] Downloading package punkt to\n",
      "[nltk_data]     C:\\Users\\Anand\\AppData\\Roaming\\nltk_data...\n",
      "[nltk_data]   Package punkt is already up-to-date!\n",
      "[nltk_data] Downloading package stopwords to\n",
      "[nltk_data]     C:\\Users\\Anand\\AppData\\Roaming\\nltk_data...\n",
      "[nltk_data]   Package stopwords is already up-to-date!\n",
      "[nltk_data] Downloading package wordnet to\n",
      "[nltk_data]     C:\\Users\\Anand\\AppData\\Roaming\\nltk_data...\n",
      "[nltk_data]   Package wordnet is already up-to-date!\n",
      "[nltk_data] Downloading package averaged_perceptron_tagger to\n",
      "[nltk_data]     C:\\Users\\Anand\\AppData\\Roaming\\nltk_data...\n",
      "[nltk_data]   Package averaged_perceptron_tagger is already up-to-\n",
      "[nltk_data]       date!\n",
      "[nltk_data] Downloading package punkt_tab to\n",
      "[nltk_data]     C:\\Users\\Anand\\AppData\\Roaming\\nltk_data...\n",
      "[nltk_data]   Package punkt_tab is already up-to-date!\n",
      "[nltk_data] Downloading package averaged_perceptron_tagger_eng to\n",
      "[nltk_data]     C:\\Users\\Anand\\AppData\\Roaming\\nltk_data...\n",
      "[nltk_data]   Package averaged_perceptron_tagger_eng is already up-to-\n",
      "[nltk_data]       date!\n"
     ]
    },
    {
     "data": {
      "text/plain": [
       "True"
      ]
     },
     "execution_count": 8,
     "metadata": {},
     "output_type": "execute_result"
    }
   ],
   "source": [
    "import nltk\n",
    "from nltk.tokenize import sent_tokenize, word_tokenize\n",
    "from nltk.corpus import stopwords\n",
    "from nltk.stem import PorterStemmer\n",
    "from nltk.stem import WordNetLemmatizer\n",
    "from nltk import pos_tag\n",
    "\n",
    "# Ensure you have the required NLTK data packages\n",
    "nltk.download('punkt')\n",
    "nltk.download('stopwords')\n",
    "nltk.download('wordnet')\n",
    "nltk.download('averaged_perceptron_tagger')\n",
    "nltk.download('punkt_tab')\n",
    "nltk.download('averaged_perceptron_tagger_eng')"
   ]
  },
  {
   "cell_type": "code",
   "execution_count": 11,
   "id": "e1f86ac2-966a-48c0-ae00-a2faca6babbe",
   "metadata": {},
   "outputs": [],
   "source": [
    "#Load the text from a file\n",
    "with open('utsav txt.txt','r') as file:\n",
    "    text=file.read()"
   ]
  },
  {
   "cell_type": "code",
   "execution_count": 10,
   "id": "d99f12be-abc1-46af-8136-0a7a02adba4d",
   "metadata": {},
   "outputs": [
    {
     "name": "stdout",
     "output_type": "stream",
     "text": [
      "sentences: ['There are good grounds for taking the slowdown of Indian economic growth to be a cause for concern.', 'Even though ‘dismal’ is hardly an apt description, it is right to think afresh about what can be done over time to remedy this comparative sluggishness.', 'Economic growth is indeed important, not for itself, but for what it allows a country to do with the resources that are generated, expanding both individual incomes and the public revenue that can be used to meet social commitments.', 'Had European countries gone for growth rather than ill- timed austerity at the height of a recession, the public revenue so generated would have helped them to put their public finances in order without massively compromising the great European commitment to provide essential public services, which has been an inspiration for other parts of the world\\xa0–\\xa0from Singapore to Brazil.', 'India, like Europe, carries a sizeable deficit, but it has resolutely\\xa0–\\xa0and we believe rightly\\xa0–\\xa0not fallen for the siren call of immediate austerity, thereby keeping its economy expanding fast and its financial standing relatively high.2 In the long run, of course, India’s public finances need fixing, which it should be able to do, making use of the financial freedom that high growth yields.', 'What is, however, important to recognize is that in India public services call for far- reaching expansion (as will be presently discussed), and it is also critical to raise the individual incomes of the poor.', 'From both perspectives, maintaining a high- growth economy is an important objective, along with ensuring good use of the public revenue generated by economic growth.', 'It is also essential, of course, to pay attention to the character of the growth process, including its equity and sustainability; we shall return to this presently.']\n",
      "words: ['There', 'are', 'good', 'grounds', 'for', 'taking', 'the', 'slowdown', 'of', 'Indian', 'economic', 'growth', 'to', 'be', 'a', 'cause', 'for', 'concern', '.', 'Even', 'though', '‘', 'dismal', '’', 'is', 'hardly', 'an', 'apt', 'description', ',', 'it', 'is', 'right', 'to', 'think', 'afresh', 'about', 'what', 'can', 'be', 'done', 'over', 'time', 'to', 'remedy', 'this', 'comparative', 'sluggishness', '.', 'Economic', 'growth', 'is', 'indeed', 'important', ',', 'not', 'for', 'itself', ',', 'but', 'for', 'what', 'it', 'allows', 'a', 'country', 'to', 'do', 'with', 'the', 'resources', 'that', 'are', 'generated', ',', 'expanding', 'both', 'individual', 'incomes', 'and', 'the', 'public', 'revenue', 'that', 'can', 'be', 'used', 'to', 'meet', 'social', 'commitments', '.', 'Had', 'European', 'countries', 'gone', 'for', 'growth', 'rather', 'than', 'ill-', 'timed', 'austerity', 'at', 'the', 'height', 'of', 'a', 'recession', ',', 'the', 'public', 'revenue', 'so', 'generated', 'would', 'have', 'helped', 'them', 'to', 'put', 'their', 'public', 'finances', 'in', 'order', 'without', 'massively', 'compromising', 'the', 'great', 'European', 'commitment', 'to', 'provide', 'essential', 'public', 'services', ',', 'which', 'has', 'been', 'an', 'inspiration', 'for', 'other', 'parts', 'of', 'the', 'world', '–', 'from', 'Singapore', 'to', 'Brazil', '.', 'India', ',', 'like', 'Europe', ',', 'carries', 'a', 'sizeable', 'deficit', ',', 'but', 'it', 'has', 'resolutely', '–', 'and', 'we', 'believe', 'rightly', '–', 'not', 'fallen', 'for', 'the', 'siren', 'call', 'of', 'immediate', 'austerity', ',', 'thereby', 'keeping', 'its', 'economy', 'expanding', 'fast', 'and', 'its', 'financial', 'standing', 'relatively', 'high.2', 'In', 'the', 'long', 'run', ',', 'of', 'course', ',', 'India', '’', 's', 'public', 'finances', 'need', 'fixing', ',', 'which', 'it', 'should', 'be', 'able', 'to', 'do', ',', 'making', 'use', 'of', 'the', 'financial', 'freedom', 'that', 'high', 'growth', 'yields', '.', 'What', 'is', ',', 'however', ',', 'important', 'to', 'recognize', 'is', 'that', 'in', 'India', 'public', 'services', 'call', 'for', 'far-', 'reaching', 'expansion', '(', 'as', 'will', 'be', 'presently', 'discussed', ')', ',', 'and', 'it', 'is', 'also', 'critical', 'to', 'raise', 'the', 'individual', 'incomes', 'of', 'the', 'poor', '.', 'From', 'both', 'perspectives', ',', 'maintaining', 'a', 'high-', 'growth', 'economy', 'is', 'an', 'important', 'objective', ',', 'along', 'with', 'ensuring', 'good', 'use', 'of', 'the', 'public', 'revenue', 'generated', 'by', 'economic', 'growth', '.', 'It', 'is', 'also', 'essential', ',', 'of', 'course', ',', 'to', 'pay', 'attention', 'to', 'the', 'character', 'of', 'the', 'growth', 'process', ',', 'including', 'its', 'equity', 'and', 'sustainability', ';', 'we', 'shall', 'return', 'to', 'this', 'presently', '.']\n"
     ]
    }
   ],
   "source": [
    "#1.Break the text into sentences and words\n",
    "sentences = sent_tokenize(text)\n",
    "words= word_tokenize(text)\n",
    "\n",
    "print(\"sentences:\",sentences)\n",
    "print(\"words:\",words)"
   ]
  },
  {
   "cell_type": "code",
   "execution_count": 12,
   "id": "01024609-e978-43a6-927a-385b22ca7623",
   "metadata": {},
   "outputs": [
    {
     "name": "stdout",
     "output_type": "stream",
     "text": [
      "Filtered Words: ['There', 'good', 'grounds', 'taking', 'slowdown', 'Indian', 'economic', 'growth', 'cause', 'concern', 'Even', 'though', 'dismal', 'hardly', 'apt', 'description', 'right', 'think', 'afresh', 'done', 'time', 'remedy', 'comparative', 'sluggishness', 'Economic', 'growth', 'indeed', 'important', 'allows', 'country', 'resources', 'generated', 'expanding', 'individual', 'incomes', 'public', 'revenue', 'used', 'meet', 'social', 'commitments', 'Had', 'European', 'countries', 'gone', 'growth', 'rather', 'timed', 'austerity', 'height', 'recession', 'public', 'revenue', 'generated', 'would', 'helped', 'put', 'public', 'finances', 'order', 'without', 'massively', 'compromising', 'great', 'European', 'commitment', 'provide', 'essential', 'public', 'services', 'inspiration', 'parts', 'world', 'Singapore', 'Brazil', 'India', 'like', 'Europe', 'carries', 'sizeable', 'deficit', 'resolutely', 'believe', 'rightly', 'fallen', 'siren', 'call', 'immediate', 'austerity', 'thereby', 'keeping', 'economy', 'expanding', 'fast', 'financial', 'standing', 'relatively', 'In', 'long', 'run', 'course', 'India', 'public', 'finances', 'need', 'fixing', 'able', 'making', 'use', 'financial', 'freedom', 'high', 'growth', 'yields', 'What', 'however', 'important', 'recognize', 'India', 'public', 'services', 'call', 'reaching', 'expansion', 'presently', 'discussed', 'also', 'critical', 'raise', 'individual', 'incomes', 'poor', 'From', 'perspectives', 'maintaining', 'growth', 'economy', 'important', 'objective', 'along', 'ensuring', 'good', 'use', 'public', 'revenue', 'generated', 'economic', 'growth', 'It', 'also', 'essential', 'course', 'pay', 'attention', 'character', 'growth', 'process', 'including', 'equity', 'sustainability', 'shall', 'return', 'presently']\n"
     ]
    }
   ],
   "source": [
    "#2.Remove Common words(stop words)\n",
    "stop_words=set(stopwords.words('english'))\n",
    "filtered_words = [word for word in words if word.isalnum() and word not in stop_words]\n",
    "print(\"Filtered Words:\",filtered_words)"
   ]
  },
  {
   "cell_type": "code",
   "execution_count": 52,
   "id": "b6a8139c-27b3-4054-98a6-eb8c847bc487",
   "metadata": {},
   "outputs": [
    {
     "name": "stdout",
     "output_type": "stream",
     "text": [
      "Stemmed Words: ['there', 'much', 'talk', 'industrialis', 'in', 'initi', 'chapter', 'plan', 'certain', 'figur', 'pertain', 'amount', 'allot', 'industri', 'agricultur', 'social', 'servic', 'transport', 'etc', 'given', 'in', 'respect', 'industri', 'seem', 'occupi', 'import', 'place', 'agricultur', 'if', 'i', 'rememb', 'correctli', 'larg', 'sum', 'spent', 'irrig', 'we', 'certainli', 'attach', 'import', 'industri', 'present', 'context', 'attach', 'far', 'greater', 'import', 'agricultur', 'food', 'matter', 'pertain', 'agricultur', 'if', 'agricultur', 'foundat', 'strong', 'industri', 'seek', 'build', 'strong', 'basi', 'either', 'apart', 'situat', 'countri', 'today', 'food', 'front', 'crack', 'everyth', 'els', 'crack', 'therefor', 'dare', 'weaken', 'food', 'front', 'if', 'agricultur', 'becom', 'strongli', 'entrench', 'hope', 'rel', 'easi', 'us', 'progress', 'rapidli', 'industri', 'front', 'wherea', 'concentr', 'industri', 'develop', 'leav', 'agricultur', 'weak', 'condit', 'shall', 'ultim', 'weaken', 'industri', 'that', 'primari', 'attent', 'given', 'agricultur', 'food', 'i', 'think', 'essenti', 'countri', 'like', 'india', 'present', 'moment']\n"
     ]
    }
   ],
   "source": [
    "#3 Reduce words to their base from using stemming\n",
    "stemmer = PorterStemmer()\n",
    "stemmed_words= [stemmer.stem(word) for word in filtered_words]\n",
    "\n",
    "print(\"Stemmed Words:\",stemmed_words)"
   ]
  },
  {
   "cell_type": "code",
   "execution_count": 13,
   "id": "227971f1-9d18-470c-ad23-f2033cf030a6",
   "metadata": {},
   "outputs": [
    {
     "name": "stdout",
     "output_type": "stream",
     "text": [
      "Lemmatize words: ['There', 'good', 'ground', 'taking', 'slowdown', 'Indian', 'economic', 'growth', 'cause', 'concern', 'Even', 'though', 'dismal', 'hardly', 'apt', 'description', 'right', 'think', 'afresh', 'done', 'time', 'remedy', 'comparative', 'sluggishness', 'Economic', 'growth', 'indeed', 'important', 'allows', 'country', 'resource', 'generated', 'expanding', 'individual', 'income', 'public', 'revenue', 'used', 'meet', 'social', 'commitment', 'Had', 'European', 'country', 'gone', 'growth', 'rather', 'timed', 'austerity', 'height', 'recession', 'public', 'revenue', 'generated', 'would', 'helped', 'put', 'public', 'finance', 'order', 'without', 'massively', 'compromising', 'great', 'European', 'commitment', 'provide', 'essential', 'public', 'service', 'inspiration', 'part', 'world', 'Singapore', 'Brazil', 'India', 'like', 'Europe', 'carry', 'sizeable', 'deficit', 'resolutely', 'believe', 'rightly', 'fallen', 'siren', 'call', 'immediate', 'austerity', 'thereby', 'keeping', 'economy', 'expanding', 'fast', 'financial', 'standing', 'relatively', 'In', 'long', 'run', 'course', 'India', 'public', 'finance', 'need', 'fixing', 'able', 'making', 'use', 'financial', 'freedom', 'high', 'growth', 'yield', 'What', 'however', 'important', 'recognize', 'India', 'public', 'service', 'call', 'reaching', 'expansion', 'presently', 'discussed', 'also', 'critical', 'raise', 'individual', 'income', 'poor', 'From', 'perspective', 'maintaining', 'growth', 'economy', 'important', 'objective', 'along', 'ensuring', 'good', 'use', 'public', 'revenue', 'generated', 'economic', 'growth', 'It', 'also', 'essential', 'course', 'pay', 'attention', 'character', 'growth', 'process', 'including', 'equity', 'sustainability', 'shall', 'return', 'presently']\n"
     ]
    }
   ],
   "source": [
    "#4 Perform Lemmatization\n",
    "lemmatizer = WordNetLemmatizer()\n",
    "lemmatized_words =[ lemmatizer .lemmatize(word) for word in filtered_words]\n",
    "\n",
    "print(\"Lemmatize words:\",lemmatized_words)"
   ]
  },
  {
   "cell_type": "code",
   "execution_count": 70,
   "id": "40c31eac-d200-4807-bd4a-016eae8ec75c",
   "metadata": {},
   "outputs": [
    {
     "name": "stdout",
     "output_type": "stream",
     "text": [
      "['there', 'is', 'much', 'talk', 'of', 'industrialisation', '.', 'in', 'the', 'initial', 'chapters', 'of', 'the', 'plan', ',', 'certain', 'figures', 'pertaining', 'to', 'the', 'amounts', 'allotted', 'to', 'industry', ',', 'agriculture', ',', 'social', 'services', ',', 'transport', ',', 'etc', ',', 'are', 'given', '.', 'in', 'this', 'respect', ',', 'industry', 'does', 'not', 'seem', 'to', 'occupy', 'as', 'important', 'a', 'place', 'as', 'agriculture', '.', 'if', 'i', 'remember', 'correctly', ',', 'a', 'very', 'large', 'sum', 'is', 'to', 'be', 'spent', 'on', 'irrigation', '.', 'we', 'certainly', 'attach', 'importance', 'to', 'industry', ',', 'but', 'in', 'the', 'present', 'context', 'we', 'attach', 'far', 'greater', 'importance', 'to', 'agriculture', 'and', 'food', 'and', 'matters', 'pertaining', 'to', 'agriculture', '.', 'if', 'our', 'agricultural', 'foundation', 'is', 'not', 'strong', 'then', 'industry', ',', 'we', 'seek', 'to', 'build', 'will', 'not', 'have', 'a', 'strong', 'basis', 'either', '.', 'apart', 'from', 'that', ',', 'the', 'situation', 'in', 'the', 'country', 'today', 'is', 'such', 'that', 'if', 'our', 'food', 'front', 'cracks', 'up', ',', 'everything', 'else', 'will', 'crack', 'up', ',', 'too', '.', 'therefore', ',', 'we', 'dare', 'not', 'weaken', 'our', 'food', 'front', '.', 'if', 'our', 'agriculture', 'becomes', 'strongly', 'entrenched', ',', 'as', 'we', 'hope', 'it', 'will', ',', 'then', 'it', 'will', 'be', 'relatively', 'easy', 'for', 'us', 'to', 'progress', 'more', 'rapidly', 'on', 'the', 'industrial', 'front', ',', 'whereas', 'if', 'we', 'concentrate', 'only', 'on', 'industrial', 'development', 'and', 'leave', 'agriculture', 'in', 'a', 'weak', 'condition', ',', 'we', 'shall', 'ultimately', 'be', 'weakening', 'industry', '.', 'that', 'is', 'why', 'primary', 'attention', 'has', 'been', 'given', 'to', 'agriculture', 'and', 'food', 'and', 'that', ',', 'i', 'think', ',', 'is', 'essential', 'in', 'a', 'country', 'like', 'india', 'at', 'the', 'present', 'moment']\n"
     ]
    }
   ],
   "source": [
    "#5 Tokenization of words\n",
    "words = nltk.word_tokenize(text.lower())  # Tokenize and convert to lowercase\n",
    "print(words)"
   ]
  },
  {
   "cell_type": "code",
   "execution_count": 24,
   "id": "07906726-4b97-47d8-a745-8502342c7126",
   "metadata": {},
   "outputs": [
    {
     "name": "stdout",
     "output_type": "stream",
     "text": [
      "['There', 'good', 'grounds', 'taking', 'slowdown', 'Indian', 'economic', 'growth', 'cause', 'concern', 'Even', 'though', 'dismal', 'hardly', 'apt', 'description', 'right', 'think', 'afresh', 'done', 'time', 'remedy', 'comparative', 'sluggishness', 'Economic', 'growth', 'indeed', 'important', 'allows', 'country', 'resources', 'generated', 'expanding', 'individual', 'incomes', 'public', 'revenue', 'used', 'meet', 'social', 'commitments', 'Had', 'European', 'countries', 'gone', 'growth', 'rather', 'timed', 'austerity', 'height', 'recession', 'public', 'revenue', 'generated', 'would', 'helped', 'put', 'public', 'finances', 'order', 'without', 'massively', 'compromising', 'great', 'European', 'commitment', 'provide', 'essential', 'public', 'services', 'inspiration', 'parts', 'world', 'Singapore', 'Brazil', 'India', 'like', 'Europe', 'carries', 'sizeable', 'deficit', 'resolutely', 'believe', 'rightly', 'fallen', 'siren', 'call', 'immediate', 'austerity', 'thereby', 'keeping', 'economy', 'expanding', 'fast', 'financial', 'standing', 'relatively', 'In', 'long', 'run', 'course', 'India', 'public', 'finances', 'need', 'fixing', 'able', 'making', 'use', 'financial', 'freedom', 'high', 'growth', 'yields', 'What', 'however', 'important', 'recognize', 'India', 'public', 'services', 'call', 'reaching', 'expansion', 'presently', 'discussed', 'also', 'critical', 'raise', 'individual', 'incomes', 'poor', 'From', 'perspectives', 'maintaining', 'growth', 'economy', 'important', 'objective', 'along', 'ensuring', 'good', 'use', 'public', 'revenue', 'generated', 'economic', 'growth', 'It', 'also', 'essential', 'course', 'pay', 'attention', 'character', 'growth', 'process', 'including', 'equity', 'sustainability', 'shall', 'return', 'presently']\n"
     ]
    }
   ],
   "source": [
    "#6 Remove stopwords\n",
    "stop_words=set(stopwords.words('english'))\n",
    "filtered_words = [word for word in words if word.isalnum() and word not in stop_words]  # Remove stopwords and non-alphanumeric words\n",
    "print(filtered_words)"
   ]
  },
  {
   "cell_type": "code",
   "execution_count": 25,
   "id": "30722551-6725-40ee-95c4-b873ce1740c7",
   "metadata": {},
   "outputs": [
    {
     "ename": "NameError",
     "evalue": "name 'WordCloud' is not defined",
     "output_type": "error",
     "traceback": [
      "\u001b[1;31m---------------------------------------------------------------------------\u001b[0m",
      "\u001b[1;31mNameError\u001b[0m                                 Traceback (most recent call last)",
      "Cell \u001b[1;32mIn[25], line 1\u001b[0m\n\u001b[1;32m----> 1\u001b[0m wordcloud \u001b[38;5;241m=\u001b[39m WordCloud(width\u001b[38;5;241m=\u001b[39m\u001b[38;5;241m800\u001b[39m, height\u001b[38;5;241m=\u001b[39m\u001b[38;5;241m400\u001b[39m, background_color\u001b[38;5;241m=\u001b[39m\u001b[38;5;124m'\u001b[39m\u001b[38;5;124mwhite\u001b[39m\u001b[38;5;124m'\u001b[39m, colormap\u001b[38;5;241m=\u001b[39m\u001b[38;5;124m'\u001b[39m\u001b[38;5;124mviridis\u001b[39m\u001b[38;5;124m'\u001b[39m)\u001b[38;5;241m.\u001b[39mgenerate(\u001b[38;5;124m'\u001b[39m\u001b[38;5;124m \u001b[39m\u001b[38;5;124m'\u001b[39m\u001b[38;5;241m.\u001b[39mjoin(filtered_words))\n",
      "\u001b[1;31mNameError\u001b[0m: name 'WordCloud' is not defined"
     ]
    }
   ],
   "source": [
    "wordcloud = WordCloud(width=800, height=400, background_color='white', colormap='viridis').generate(' '.join(filtered_words))"
   ]
  },
  {
   "cell_type": "code",
   "execution_count": 23,
   "id": "d4f84cfd-fc62-48d7-bd07-60a63a91c6cf",
   "metadata": {},
   "outputs": [
    {
     "ename": "NameError",
     "evalue": "name 'plt' is not defined",
     "output_type": "error",
     "traceback": [
      "\u001b[1;31m---------------------------------------------------------------------------\u001b[0m",
      "\u001b[1;31mNameError\u001b[0m                                 Traceback (most recent call last)",
      "Cell \u001b[1;32mIn[23], line 2\u001b[0m\n\u001b[0;32m      1\u001b[0m \u001b[38;5;66;03m#Plotting the word cloud\u001b[39;00m\n\u001b[1;32m----> 2\u001b[0m plt\u001b[38;5;241m.\u001b[39mfigure(figsize\u001b[38;5;241m=\u001b[39m(\u001b[38;5;241m10\u001b[39m, \u001b[38;5;241m5\u001b[39m))\n\u001b[0;32m      3\u001b[0m plt\u001b[38;5;241m.\u001b[39mimshow(wordcloud, interpolation\u001b[38;5;241m=\u001b[39m\u001b[38;5;124m'\u001b[39m\u001b[38;5;124mbilinear\u001b[39m\u001b[38;5;124m'\u001b[39m)\n\u001b[0;32m      4\u001b[0m plt\u001b[38;5;241m.\u001b[39maxis(\u001b[38;5;124m'\u001b[39m\u001b[38;5;124moff\u001b[39m\u001b[38;5;124m'\u001b[39m)  \u001b[38;5;66;03m# Turn off the axis\u001b[39;00m\n",
      "\u001b[1;31mNameError\u001b[0m: name 'plt' is not defined"
     ]
    }
   ],
   "source": [
    "#Plotting the word cloud\n",
    "plt.figure(figsize=(10, 5))\n",
    "plt.imshow(wordcloud, interpolation='bilinear')\n",
    "plt.axis('off')  # Turn off the axis\n",
    "plt.title(\"Indian Economy\", fontsize=16)\n",
    "plt.show()"
   ]
  },
  {
   "cell_type": "code",
   "execution_count": null,
   "id": "058150c2-77e1-48db-bf3c-917fb89888ac",
   "metadata": {},
   "outputs": [],
   "source": []
  }
 ],
 "metadata": {
  "kernelspec": {
   "display_name": "Python 3 (ipykernel)",
   "language": "python",
   "name": "python3"
  },
  "language_info": {
   "codemirror_mode": {
    "name": "ipython",
    "version": 3
   },
   "file_extension": ".py",
   "mimetype": "text/x-python",
   "name": "python",
   "nbconvert_exporter": "python",
   "pygments_lexer": "ipython3",
   "version": "3.12.7"
  }
 },
 "nbformat": 4,
 "nbformat_minor": 5
}
